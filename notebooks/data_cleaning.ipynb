{
 "cells": [
  {
   "cell_type": "code",
   "execution_count": 6,
   "id": "dde851eb-0633-40c0-92a7-746e7cfe6e4a",
   "metadata": {},
   "outputs": [
    {
     "name": "stdout",
     "output_type": "stream",
     "text": [
      "تعداد سطرها و ستون‌ها قبل از پاک‌سازی: (791784, 23)\n",
      "تعداد سطرها و ستون‌ها بعد از حذف ستون‌ها: (791784, 13)\n",
      "فایل پاک‌سازی‌شده ذخیره شد در: ../data/Taxi_Trips_2024_clean.csv\n"
     ]
    }
   ],
   "source": [
    "import pandas as pd\n",
    "\n",
    "# مسیر فایل ورودی\n",
    "file_path = \"../data/Taxi_Trips_2024.csv\"\n",
    "\n",
    "# بارگذاری دیتافریم\n",
    "df = pd.read_csv(file_path)\n",
    "\n",
    "# نمایش اولیه\n",
    "print(\"تعداد سطرها و ستون‌ها قبل از پاک‌سازی:\", df.shape)\n",
    "\n",
    "# لیست ستون‌هایی که می‌خواهیم حذف کنیم (با دقت به فاصله‌ها)\n",
    "columns_to_drop = [\n",
    "    'Dropoff Census Tract', 'Pickup Census Tract',\n",
    "    'Dropoff Community Area', 'Dropoff Centroid Latitude',\n",
    "    'Dropoff Centroid Longitude', 'Dropoff Centroid  Location',  # ← دوتا فاصله!\n",
    "    'Pickup Community Area', 'Pickup Centroid Latitude',\n",
    "    'Pickup Centroid Longitude', 'Pickup Centroid Location'\n",
    "]\n",
    "\n",
    "# حذف این ستون‌ها\n",
    "df.drop(columns=columns_to_drop, inplace=True, errors='ignore')  # اگر ستونی نبود، خطا نمی‌دهد\n",
    "\n",
    "# نمایش شکل بعد از حذف\n",
    "print(\"تعداد سطرها و ستون‌ها بعد از حذف ستون‌ها:\", df.shape)\n",
    "\n",
    "# مسیر ذخیره فایل پاک‌سازی‌شده\n",
    "cleaned_path = \"../data/Taxi_Trips_2024_clean.csv\"\n",
    "\n",
    "# ذخیره‌سازی فایل جدید\n",
    "df.to_csv(cleaned_path, index=False)\n",
    "print(\"فایل پاک‌سازی‌شده ذخیره شد در:\", cleaned_path)\n"
   ]
  },
  {
   "cell_type": "code",
   "execution_count": null,
   "id": "fc40f0e3-6695-41eb-a403-df8b35781646",
   "metadata": {},
   "outputs": [],
   "source": []
  }
 ],
 "metadata": {
  "kernelspec": {
   "display_name": "Python 3 (ipykernel)",
   "language": "python",
   "name": "python3"
  },
  "language_info": {
   "codemirror_mode": {
    "name": "ipython",
    "version": 3
   },
   "file_extension": ".py",
   "mimetype": "text/x-python",
   "name": "python",
   "nbconvert_exporter": "python",
   "pygments_lexer": "ipython3",
   "version": "3.12.7"
  }
 },
 "nbformat": 4,
 "nbformat_minor": 5
}
