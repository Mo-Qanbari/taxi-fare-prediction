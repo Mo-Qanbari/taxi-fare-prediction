{
 "cells": [
  {
   "cell_type": "code",
   "execution_count": 23,
   "id": "b1ce04da-57fa-422a-bf37-939c928f0dd0",
   "metadata": {},
   "outputs": [],
   "source": [
    "import pandas as pd\n",
    "import numpy as np\n",
    "import matplotlib.pyplot as plt\n",
    "import seaborn as sns\n",
    "\n",
    "from sklearn.model_selection import train_test_split\n",
    "from sklearn.linear_model import LinearRegression\n",
    "from sklearn.metrics import mean_squared_error, mean_absolute_error\n",
    "\n",
    "# نمایش بهتر داده‌ها\n",
    "pd.set_option('display.float_format', lambda x: '%.2f' % x)\n",
    "sns.set(style=\"whitegrid\")\n"
   ]
  },
  {
   "cell_type": "code",
   "execution_count": 21,
   "id": "4f09b90d-0b11-4fd0-b8bf-667ad4120fd6",
   "metadata": {},
   "outputs": [
    {
     "name": "stdout",
     "output_type": "stream",
     "text": [
      "شکل دیتافریم: (791784, 13)\n",
      "ستون‌ها: ['Trip ID', 'Taxi ID', 'Trip Start Timestamp', 'Trip End Timestamp', 'Trip Seconds', 'Trip Miles', 'Fare', 'Tips', 'Tolls', 'Extras', 'Trip Total', 'Payment Type', 'Company']\n"
     ]
    },
    {
     "data": {
      "text/html": [
       "<div>\n",
       "<style scoped>\n",
       "    .dataframe tbody tr th:only-of-type {\n",
       "        vertical-align: middle;\n",
       "    }\n",
       "\n",
       "    .dataframe tbody tr th {\n",
       "        vertical-align: top;\n",
       "    }\n",
       "\n",
       "    .dataframe thead th {\n",
       "        text-align: right;\n",
       "    }\n",
       "</style>\n",
       "<table border=\"1\" class=\"dataframe\">\n",
       "  <thead>\n",
       "    <tr style=\"text-align: right;\">\n",
       "      <th></th>\n",
       "      <th>Trip Start Timestamp</th>\n",
       "      <th>Trip End Timestamp</th>\n",
       "      <th>Trip Seconds</th>\n",
       "      <th>Trip Miles</th>\n",
       "      <th>Fare</th>\n",
       "      <th>Tips</th>\n",
       "      <th>Tolls</th>\n",
       "      <th>Extras</th>\n",
       "      <th>Trip Total</th>\n",
       "    </tr>\n",
       "  </thead>\n",
       "  <tbody>\n",
       "    <tr>\n",
       "      <th>count</th>\n",
       "      <td>711775</td>\n",
       "      <td>711775</td>\n",
       "      <td>711775.00</td>\n",
       "      <td>711775.00</td>\n",
       "      <td>711775.00</td>\n",
       "      <td>711775.00</td>\n",
       "      <td>711775.00</td>\n",
       "      <td>711775.00</td>\n",
       "      <td>711775.00</td>\n",
       "    </tr>\n",
       "    <tr>\n",
       "      <th>mean</th>\n",
       "      <td>2024-08-18 10:52:48.302202624</td>\n",
       "      <td>2024-08-18 11:15:00.443820288</td>\n",
       "      <td>1331.60</td>\n",
       "      <td>7.53</td>\n",
       "      <td>23.03</td>\n",
       "      <td>2.96</td>\n",
       "      <td>0.03</td>\n",
       "      <td>2.14</td>\n",
       "      <td>28.37</td>\n",
       "    </tr>\n",
       "    <tr>\n",
       "      <th>min</th>\n",
       "      <td>2024-01-01 00:00:00</td>\n",
       "      <td>2024-01-01 00:15:00</td>\n",
       "      <td>1.00</td>\n",
       "      <td>0.01</td>\n",
       "      <td>0.01</td>\n",
       "      <td>0.00</td>\n",
       "      <td>0.00</td>\n",
       "      <td>0.00</td>\n",
       "      <td>0.01</td>\n",
       "    </tr>\n",
       "    <tr>\n",
       "      <th>25%</th>\n",
       "      <td>2024-05-03 17:15:00</td>\n",
       "      <td>2024-05-03 17:45:00</td>\n",
       "      <td>540.00</td>\n",
       "      <td>1.41</td>\n",
       "      <td>8.75</td>\n",
       "      <td>0.00</td>\n",
       "      <td>0.00</td>\n",
       "      <td>0.00</td>\n",
       "      <td>10.75</td>\n",
       "    </tr>\n",
       "    <tr>\n",
       "      <th>50%</th>\n",
       "      <td>2024-08-16 18:30:00</td>\n",
       "      <td>2024-08-16 19:00:00</td>\n",
       "      <td>1020.00</td>\n",
       "      <td>4.66</td>\n",
       "      <td>17.25</td>\n",
       "      <td>1.00</td>\n",
       "      <td>0.00</td>\n",
       "      <td>0.00</td>\n",
       "      <td>20.04</td>\n",
       "    </tr>\n",
       "    <tr>\n",
       "      <th>75%</th>\n",
       "      <td>2024-12-01 17:45:00</td>\n",
       "      <td>2024-12-01 18:15:00</td>\n",
       "      <td>1786.00</td>\n",
       "      <td>12.70</td>\n",
       "      <td>35.00</td>\n",
       "      <td>4.22</td>\n",
       "      <td>0.00</td>\n",
       "      <td>4.00</td>\n",
       "      <td>44.00</td>\n",
       "    </tr>\n",
       "    <tr>\n",
       "      <th>max</th>\n",
       "      <td>2025-04-01 00:00:00</td>\n",
       "      <td>2025-04-01 17:00:00</td>\n",
       "      <td>83040.00</td>\n",
       "      <td>2820.67</td>\n",
       "      <td>3668.50</td>\n",
       "      <td>150.00</td>\n",
       "      <td>4444.44</td>\n",
       "      <td>4890.00</td>\n",
       "      <td>8897.13</td>\n",
       "    </tr>\n",
       "    <tr>\n",
       "      <th>std</th>\n",
       "      <td>NaN</td>\n",
       "      <td>NaN</td>\n",
       "      <td>1642.06</td>\n",
       "      <td>8.34</td>\n",
       "      <td>18.45</td>\n",
       "      <td>4.21</td>\n",
       "      <td>5.60</td>\n",
       "      <td>9.73</td>\n",
       "      <td>26.80</td>\n",
       "    </tr>\n",
       "  </tbody>\n",
       "</table>\n",
       "</div>"
      ],
      "text/plain": [
       "                Trip Start Timestamp             Trip End Timestamp  \\\n",
       "count                         711775                         711775   \n",
       "mean   2024-08-18 10:52:48.302202624  2024-08-18 11:15:00.443820288   \n",
       "min              2024-01-01 00:00:00            2024-01-01 00:15:00   \n",
       "25%              2024-05-03 17:15:00            2024-05-03 17:45:00   \n",
       "50%              2024-08-16 18:30:00            2024-08-16 19:00:00   \n",
       "75%              2024-12-01 17:45:00            2024-12-01 18:15:00   \n",
       "max              2025-04-01 00:00:00            2025-04-01 17:00:00   \n",
       "std                              NaN                            NaN   \n",
       "\n",
       "       Trip Seconds  Trip Miles      Fare      Tips     Tolls    Extras  \\\n",
       "count     711775.00   711775.00 711775.00 711775.00 711775.00 711775.00   \n",
       "mean        1331.60        7.53     23.03      2.96      0.03      2.14   \n",
       "min            1.00        0.01      0.01      0.00      0.00      0.00   \n",
       "25%          540.00        1.41      8.75      0.00      0.00      0.00   \n",
       "50%         1020.00        4.66     17.25      1.00      0.00      0.00   \n",
       "75%         1786.00       12.70     35.00      4.22      0.00      4.00   \n",
       "max        83040.00     2820.67   3668.50    150.00   4444.44   4890.00   \n",
       "std         1642.06        8.34     18.45      4.21      5.60      9.73   \n",
       "\n",
       "       Trip Total  \n",
       "count   711775.00  \n",
       "mean        28.37  \n",
       "min          0.01  \n",
       "25%         10.75  \n",
       "50%         20.04  \n",
       "75%         44.00  \n",
       "max       8897.13  \n",
       "std         26.80  "
      ]
     },
     "execution_count": 21,
     "metadata": {},
     "output_type": "execute_result"
    }
   ],
   "source": [
    "# بارگذاری داده\n",
    "file_path = '../data/Taxi_Trips_2024_clean.csv'\n",
    "df = pd.read_csv(file_path)\n",
    "\n",
    "# بررسی اولیه\n",
    "print(\"شکل دیتافریم:\", df.shape)\n",
    "print(\"ستون‌ها:\", df.columns.tolist())\n",
    "\n",
    "# تبدیل timestampها به datetime\n",
    "df['Trip Start Timestamp'] = pd.to_datetime(df['Trip Start Timestamp'])\n",
    "df['Trip End Timestamp'] = pd.to_datetime(df['Trip End Timestamp'])\n",
    "\n",
    "# حذف مقادیر غیرمنطقی یا گمشده در ستون‌های کلیدی\n",
    "df = df.dropna(subset=['Trip Seconds', 'Trip Miles', 'Fare', 'Trip Total'])\n",
    "\n",
    "# حذف مقادیر صفر یا منفی که به‌احتمال زیاد خطا هستند\n",
    "df = df[(df['Trip Seconds'] > 0) & (df['Trip Miles'] > 0) & (df['Fare'] > 0)]\n",
    "\n",
    "# ریست ایندکس بعد از فیلتر کردن\n",
    "df.reset_index(drop=True, inplace=True)\n",
    "\n",
    "# نمایش آماری خلاصه\n",
    "df.describe()\n"
   ]
  },
  {
   "cell_type": "code",
   "execution_count": 27,
   "id": "9a72a177-b0f2-4f13-910b-8458865e6640",
   "metadata": {},
   "outputs": [
    {
     "name": "stdout",
     "output_type": "stream",
     "text": [
      "شکل داده‌ها:\n",
      "X: (711775, 3)\n",
      "y: (711775,)\n"
     ]
    }
   ],
   "source": [
    "# انتخاب ویژگی‌ها (Features) و خروجی (Label)\n",
    "feature_cols = ['Trip Seconds', 'Trip Miles', 'Fare', 'Tips', 'Tolls', 'Extras']\n",
    "X = df[['Trip Seconds', 'Trip Miles', 'Fare']]\n",
    "y = df['Trip Total']\n",
    "\n",
    "# بررسی اولیه برای اطمینان\n",
    "print(\"شکل داده‌ها:\")\n",
    "print(\"X:\", X.shape)\n",
    "print(\"y:\", y.shape)\n",
    "\n",
    "# تقسیم داده‌ها به آموزش و آزمون\n",
    "X_train, X_test, y_train, y_test = train_test_split(\n",
    "    X, y, test_size=0.2, random_state=42\n",
    ")\n"
   ]
  },
  {
   "cell_type": "code",
   "execution_count": 29,
   "id": "255616ae-a3f1-43dc-a544-9d1c9f09e30d",
   "metadata": {
    "scrolled": true
   },
   "outputs": [
    {
     "name": "stdout",
     "output_type": "stream",
     "text": [
      "ضرایب مدل:\n",
      "          ویژگی  ضریب\n",
      "0  Trip Seconds -0.00\n",
      "1    Trip Miles  0.19\n",
      "2          Fare  1.15\n",
      "\n",
      "بایاس (intercept): 0.48177259363572844\n"
     ]
    }
   ],
   "source": [
    "# تعریف مدل\n",
    "model = LinearRegression()\n",
    "\n",
    "# آموزش مدل روی داده‌های آموزشی\n",
    "model.fit(X_train, y_train)\n",
    "\n",
    "# بررسی ضرایب مدل\n",
    "coefficients = pd.DataFrame({\n",
    "    'ویژگی': X.columns,\n",
    "    'ضریب': model.coef_\n",
    "})\n",
    "print(\"ضرایب مدل:\")\n",
    "print(coefficients)\n",
    "\n",
    "# نمایش بایاس (intercept)\n",
    "print(\"\\nبایاس (intercept):\", model.intercept_)\n"
   ]
  },
  {
   "cell_type": "code",
   "execution_count": 31,
   "id": "72a8b9b4-b510-4292-a144-7a813c1a77de",
   "metadata": {},
   "outputs": [
    {
     "name": "stdout",
     "output_type": "stream",
     "text": [
      "ارزیابی مدل روی داده‌های آزمون:\n",
      "MAE (میانگین خطای مطلق): 4.23\n",
      "RMSE (ریشه میانگین مربع خطاها): 15.41\n",
      "MSE (میانگین مربع خطاها): 237.59\n"
     ]
    }
   ],
   "source": [
    "# پیش‌بینی روی داده‌های آزمون\n",
    "y_pred = model.predict(X_test)\n",
    "\n",
    "# محاسبه معیارهای ارزیابی\n",
    "mse = mean_squared_error(y_test, y_pred)\n",
    "rmse = np.sqrt(mse)\n",
    "mae = mean_absolute_error(y_test, y_pred)\n",
    "\n",
    "print(\"ارزیابی مدل روی داده‌های آزمون:\")\n",
    "print(f\"MAE (میانگین خطای مطلق): {mae:.2f}\")\n",
    "print(f\"RMSE (ریشه میانگین مربع خطاها): {rmse:.2f}\")\n",
    "print(f\"MSE (میانگین مربع خطاها): {mse:.2f}\")\n"
   ]
  },
  {
   "cell_type": "code",
   "execution_count": 33,
   "id": "892f8beb-1dc5-4bf9-86cd-f3909c8f0787",
   "metadata": {},
   "outputs": [
    {
     "name": "stdout",
     "output_type": "stream",
     "text": [
      "تعداد داده‌ها بعد از حذف outlierها: 507454\n"
     ]
    }
   ],
   "source": [
    "# لیست ستون‌هایی که می‌خوایم Outlierهاشون رو حذف کنیم\n",
    "columns_to_filter = ['Trip Seconds', 'Trip Miles', 'Fare', 'Tips', 'Tolls', 'Extras']\n",
    "\n",
    "df_filtered = df.copy()\n",
    "\n",
    "for col in columns_to_filter:\n",
    "    Q1 = df_filtered[col].quantile(0.25)\n",
    "    Q3 = df_filtered[col].quantile(0.75)\n",
    "    IQR = Q3 - Q1\n",
    "    lower_bound = Q1 - 1.5 * IQR\n",
    "    upper_bound = Q3 + 1.5 * IQR\n",
    "    \n",
    "    # فیلتر فقط داده‌های داخل بازه مجاز\n",
    "    df_filtered = df_filtered[(df_filtered[col] >= lower_bound) & (df_filtered[col] <= upper_bound)]\n",
    "\n",
    "# بررسی بعد از فیلتر\n",
    "print(f\"تعداد داده‌ها بعد از حذف outlierها: {df_filtered.shape[0]}\")\n"
   ]
  },
  {
   "cell_type": "code",
   "execution_count": 35,
   "id": "3656fc29-9542-4655-b0ed-2bbc97121363",
   "metadata": {},
   "outputs": [
    {
     "name": "stdout",
     "output_type": "stream",
     "text": [
      "MAE جدید: 1.79\n",
      "RMSE جدید: 2.23\n",
      "MSE جدید: 4.99\n"
     ]
    }
   ],
   "source": [
    "# آماده‌سازی داده‌ها\n",
    "X_filtered = df_filtered[['Trip Seconds', 'Trip Miles', 'Fare']]\n",
    "y_filtered = df_filtered['Trip Total']\n",
    "\n",
    "# تقسیم به آموزش و تست\n",
    "X_train_f, X_test_f, y_train_f, y_test_f = train_test_split(\n",
    "    X_filtered, y_filtered, test_size=0.2, random_state=42\n",
    ")\n",
    "\n",
    "# آموزش مدل\n",
    "model_f = LinearRegression()\n",
    "model_f.fit(X_train_f, y_train_f)\n",
    "\n",
    "# پیش‌بینی روی داده تست\n",
    "y_pred_f = model_f.predict(X_test_f)\n",
    "\n",
    "# ارزیابی\n",
    "mae_f = mean_absolute_error(y_test_f, y_pred_f)\n",
    "rmse_f = np.sqrt(mean_squared_error(y_test_f, y_pred_f))\n",
    "mse_f = mean_squared_error(y_test_f, y_pred_f)\n",
    "\n",
    "print(f\"MAE جدید: {mae_f:.2f}\")\n",
    "print(f\"RMSE جدید: {rmse_f:.2f}\")\n",
    "print(f\"MSE جدید: {mse_f:.2f}\")\n"
   ]
  },
  {
   "cell_type": "code",
   "execution_count": null,
   "id": "df13ee77-db2a-4b74-98f5-8fc8e33d654d",
   "metadata": {},
   "outputs": [],
   "source": []
  }
 ],
 "metadata": {
  "kernelspec": {
   "display_name": "Python 3 (ipykernel)",
   "language": "python",
   "name": "python3"
  },
  "language_info": {
   "codemirror_mode": {
    "name": "ipython",
    "version": 3
   },
   "file_extension": ".py",
   "mimetype": "text/x-python",
   "name": "python",
   "nbconvert_exporter": "python",
   "pygments_lexer": "ipython3",
   "version": "3.12.7"
  }
 },
 "nbformat": 4,
 "nbformat_minor": 5
}
