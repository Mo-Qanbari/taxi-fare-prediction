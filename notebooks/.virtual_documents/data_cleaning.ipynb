import pandas as pd

# ۱. خواندن فایل خام
df = pd.read_csv(r"G:\GitHub\taxi-fare-prediction\data\Taxi_Trips_2024.csv")

# ۲. حذف ستون‌هایی با داده‌ی گمشده زیاد
columns_to_drop = [
    'Dropoff Census Tract', 'Pickup Census Tract',
    'Dropoff Community Area', 'Dropoff Centroid Latitude',
    'Dropoff Centroid Longitude', 'Dropoff Centroid Location',
    'Pickup Community Area', 'Pickup Centroid Latitude',
    'Pickup Centroid Longitude', 'Pickup Centroid Location'
]
df.drop(columns=columns_to_drop, inplace=True)

# ۳. حذف ردیف‌های ناقص
df.dropna(inplace=True)

# ۴. ذخیره فایل تمیزشده
df.to_csv('data/cleaned_taxi_trips.csv', index=False)

print("Cleaning done. File saved to 'data/cleaned_taxi_trips.csv'")




